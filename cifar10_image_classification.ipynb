{
 "cells": [
  {
   "cell_type": "code",
   "execution_count": null,
   "metadata": {},
   "outputs": [],
   "source": [
    "#CIFAR10 dataset"
   ]
  },
  {
   "cell_type": "code",
   "execution_count": 1,
   "metadata": {},
   "outputs": [
    {
     "name": "stderr",
     "output_type": "stream",
     "text": [
      "Using TensorFlow backend.\n"
     ]
    }
   ],
   "source": [
    "#loading libraries\n",
    "import pandas as pd\n",
    "import numpy as np\n",
    "import tensorflow as tf\n",
    "from tensorflow import keras\n",
    "from numpy import array\n",
    "#importing CIFAR10 dataset from keras\n",
    "from keras.datasets import cifar10\n",
    "from keras.utils.np_utils import to_categorical"
   ]
  },
  {
   "cell_type": "code",
   "execution_count": 18,
   "metadata": {},
   "outputs": [
    {
     "name": "stdout",
     "output_type": "stream",
     "text": [
      "50000\n",
      "10000\n"
     ]
    },
    {
     "data": {
      "text/plain": [
       "numpy.ndarray"
      ]
     },
     "execution_count": 18,
     "metadata": {},
     "output_type": "execute_result"
    }
   ],
   "source": [
    "#loading CIFAR10 dataset and splitting it into training and validation set\n",
    "#50000 training images and 10000 test images\n",
    "(X_train_f, y_train_f), (X_test, y_test) = cifar10.load_data()\n",
    "print(len(X_train_f))\n",
    "print(len(X_test))\n",
    "type(X_train_f)\n",
    "#X, y = cifar10.load_data()\n",
    "#print(len(X))\n",
    "#print(len(y))"
   ]
  },
  {
   "cell_type": "code",
   "execution_count": 19,
   "metadata": {},
   "outputs": [
    {
     "name": "stdout",
     "output_type": "stream",
     "text": [
      "(40000, 1)\n",
      "[[7]\n",
      " [4]\n",
      " [8]\n",
      " ...\n",
      " [4]\n",
      " [8]\n",
      " [8]]\n",
      "(10000, 1)\n",
      "[[7]\n",
      " [4]\n",
      " [8]\n",
      " ...\n",
      " [4]\n",
      " [8]\n",
      " [8]]\n"
     ]
    }
   ],
   "source": [
    "#train validation split function\n",
    "def train_valid_split(X,y):\n",
    "    ind = np.arange(0,len(X_train_f),1)\n",
    "    np.random.shuffle(ind)\n",
    "    X_train=X_train_f[ind[0:40000]]\n",
    "    X_valid=X_train_f[ind[40000:50000]]\n",
    "    y_train=y_train_f[ind[0:40000]]\n",
    "    y_valid=y_train_f[ind[40000:50000]]\n",
    "    return X_train, X_valid, y_train, y_valid\n",
    "#len(y_train)\n",
    "X_train, X_valid, y_train, y_valid = train_valid_split(X_train_f, y_train_f)\n",
    "print(y_train.shape)\n",
    "print(y_train)\n",
    "print(y_valid.shape)\n",
    "print(y_train)"
   ]
  },
  {
   "cell_type": "code",
   "execution_count": 20,
   "metadata": {},
   "outputs": [],
   "source": [
    "#j=0\n",
    "#s_X_train=np.empty_like(X_train)\n",
    "#s_y_train=np.empty_like(y_train)\n",
    "#for i in range(0, len(X_train)):\n",
    "#    if (y_train[i]==0 or y_train[i]==1 or y_train[i]==2):\n",
    "#        s_X_train[j]=X_train[i]\n",
    "#        s_y_train[j]=y_train[i]\n",
    "#        j=j+1\n",
    "#print(j)\n",
    "#print(s_y_train)\n",
    "#print(s_X_train)\n"
   ]
  },
  {
   "cell_type": "code",
   "execution_count": 21,
   "metadata": {},
   "outputs": [
    {
     "name": "stdout",
     "output_type": "stream",
     "text": [
      "(11981, 32, 32, 3)\n",
      "(11981, 1)\n",
      "(3019, 32, 32, 3)\n",
      "(3019, 1)\n",
      "(3000, 32, 32, 3)\n",
      "(3000, 1)\n"
     ]
    }
   ],
   "source": [
    "#create subset of first 3 classes i.e. airplane, automobile and bird\n",
    "s_X_train = X_train[np.isin(y_train, [0,1,2]).flatten()]\n",
    "s_y_train = y_train[np.isin(y_train, [0,1,2]).flatten()]\n",
    "s_X_valid = X_valid[np.isin(y_valid, [0,1,2]).flatten()]\n",
    "s_y_valid = y_valid[np.isin(y_valid, [0,1,2]).flatten()]\n",
    "s_X_test = X_test[np.isin(y_test, [0,1,2]).flatten()]\n",
    "s_y_test = y_test[np.isin(y_test, [0,1,2]).flatten()]\n",
    "#print(subset_y_train)\n",
    "print(s_X_train.shape)\n",
    "print(s_y_train.shape)\n",
    "print(s_X_valid.shape)\n",
    "print(s_y_valid.shape)\n",
    "print(s_X_test.shape)\n",
    "print(s_y_test.shape)"
   ]
  },
  {
   "cell_type": "code",
   "execution_count": 22,
   "metadata": {},
   "outputs": [],
   "source": [
    "#class_names = ['airplane', 'automobile', 'bird', 'cat', 'deer', 'dog', 'frog', 'horse', 'ship', 'truck']\n",
    "#class_names = ['airplane', 'automobile', 'bird'] "
   ]
  },
  {
   "cell_type": "code",
   "execution_count": 23,
   "metadata": {},
   "outputs": [
    {
     "name": "stdout",
     "output_type": "stream",
     "text": [
      "3\n",
      "[[[0.77254903 0.7529412  0.67058825]\n",
      "  [0.73333335 0.69411767 0.6039216 ]\n",
      "  [0.67058825 0.61960787 0.5176471 ]\n",
      "  ...\n",
      "  [0.6862745  0.627451   0.5137255 ]\n",
      "  [0.6862745  0.654902   0.5568628 ]\n",
      "  [0.91764706 0.8666667  0.827451  ]]\n",
      "\n",
      " [[0.7137255  0.7019608  0.6431373 ]\n",
      "  [0.78431374 0.75686276 0.6862745 ]\n",
      "  [0.7254902  0.6862745  0.59607846]\n",
      "  ...\n",
      "  [0.6117647  0.56078434 0.48235294]\n",
      "  [0.63529414 0.57254905 0.47843137]\n",
      "  [0.9098039  0.8627451  0.8       ]]\n",
      "\n",
      " [[0.70980394 0.7019608  0.6627451 ]\n",
      "  [0.8235294  0.8039216  0.74509805]\n",
      "  [0.76862746 0.73333335 0.64705884]\n",
      "  ...\n",
      "  [0.5647059  0.49411765 0.44705883]\n",
      "  [0.65882355 0.52156866 0.4392157 ]\n",
      "  [0.92156863 0.83137256 0.7607843 ]]\n",
      "\n",
      " ...\n",
      "\n",
      " [[0.9137255  0.89411765 0.87058824]\n",
      "  [0.9019608  0.88235295 0.85882354]\n",
      "  [0.90588236 0.8862745  0.8627451 ]\n",
      "  ...\n",
      "  [0.9490196  0.9254902  0.9098039 ]\n",
      "  [0.9490196  0.9254902  0.90588236]\n",
      "  [0.972549   0.9529412  0.9254902 ]]\n",
      "\n",
      " [[0.9137255  0.89411765 0.87058824]\n",
      "  [0.89411765 0.8745098  0.8509804 ]\n",
      "  [0.9098039  0.8901961  0.8666667 ]\n",
      "  ...\n",
      "  [0.9647059  0.9411765  0.93333334]\n",
      "  [0.9529412  0.93333334 0.9137255 ]\n",
      "  [0.96862745 0.9490196  0.91764706]]\n",
      "\n",
      " [[0.8980392  0.8784314  0.85490197]\n",
      "  [0.8901961  0.87058824 0.84705883]\n",
      "  [0.9098039  0.8901961  0.8666667 ]\n",
      "  ...\n",
      "  [0.96862745 0.9411765  0.93333334]\n",
      "  [0.96862745 0.9372549  0.92941177]\n",
      "  [0.9607843  0.92941177 0.91764706]]]\n"
     ]
    }
   ],
   "source": [
    "#Vectorize the images and encode the known class labels using categorical encoding.\n",
    "#no_label_classes = 3\n",
    "y_train = to_categorical(s_y_train, 3)\n",
    "y_valid = to_categorical(s_y_valid, 3)\n",
    "y_test = to_categorical(s_y_test, 3)\n",
    "\n",
    "#normalizing the training/validation and testing dataset to obtain a mean close to 0 and obtain faster convergence\n",
    "X_train = s_X_train.astype('float32')/255\n",
    "X_valid = s_X_valid.astype('float32')/255\n",
    "X_test = s_X_test.astype('float32')/255\n",
    "print(X_train[1].ndim)\n",
    "print(X_train[1])"
   ]
  },
  {
   "cell_type": "code",
   "execution_count": 24,
   "metadata": {},
   "outputs": [],
   "source": [
    "#load keras libraries for using sequential model and layers\n",
    "from keras.models import Sequential\n",
    "from keras.layers import Dense, Activation, Flatten\n",
    "from keras.optimizers import SGD\n",
    "\n",
    "nn_model = Sequential()\n",
    "#nn_model.add(Dense(256, activation = 'relu', input_dim=X_train.shape[1]))\n",
    "nn_model.add(Flatten(input_shape=X_train.shape[1:]))\n",
    "nn_model.add(Dense(512, activation = 'relu'))\n",
    "nn_model.add(Dense(256, activation = 'relu'))\n",
    "#nn_model.add(Dense(5, activation = 'relu'))\n",
    "#nn_model.add(Dense(5, activation = 'relu'))\n",
    "nn_model.add(Dense(3, activation = 'softmax'))\n",
    "\n",
    "#using SGD for optimization\n",
    "stoc_grad_desc = SGD(lr=0.001, decay=1e-6, momentum=0.9, nesterov=True)\n",
    "#using crossentropy as loss function for the model\n",
    "nn_model.compile(loss='categorical_crossentropy', optimizer=stoc_grad_desc, metrics=['accuracy'])\n",
    "             "
   ]
  },
  {
   "cell_type": "code",
   "execution_count": 25,
   "metadata": {
    "scrolled": true
   },
   "outputs": [
    {
     "name": "stdout",
     "output_type": "stream",
     "text": [
      "Train on 11981 samples, validate on 3019 samples\n",
      "Epoch 1/50\n",
      " - 2s - loss: 0.8749 - acc: 0.6323 - val_loss: 0.7730 - val_acc: 0.6933\n",
      "Epoch 2/50\n",
      " - 2s - loss: 0.7453 - acc: 0.7002 - val_loss: 0.7375 - val_acc: 0.6933\n",
      "Epoch 3/50\n",
      " - 2s - loss: 0.7067 - acc: 0.7178 - val_loss: 0.7125 - val_acc: 0.7079\n",
      "Epoch 4/50\n",
      " - 2s - loss: 0.6796 - acc: 0.7238 - val_loss: 0.6762 - val_acc: 0.7247\n",
      "Epoch 5/50\n",
      " - 2s - loss: 0.6589 - acc: 0.7341 - val_loss: 0.6618 - val_acc: 0.7396\n",
      "Epoch 6/50\n",
      " - 2s - loss: 0.6389 - acc: 0.7453 - val_loss: 0.6564 - val_acc: 0.7410\n",
      "Epoch 7/50\n",
      " - 2s - loss: 0.6218 - acc: 0.7511 - val_loss: 0.6337 - val_acc: 0.7443\n",
      "Epoch 8/50\n",
      " - 2s - loss: 0.6062 - acc: 0.7590 - val_loss: 0.6322 - val_acc: 0.7403\n",
      "Epoch 9/50\n",
      " - 2s - loss: 0.5918 - acc: 0.7633 - val_loss: 0.6141 - val_acc: 0.7565\n",
      "Epoch 10/50\n",
      " - 2s - loss: 0.5768 - acc: 0.7719 - val_loss: 0.6126 - val_acc: 0.7539\n",
      "Epoch 11/50\n",
      " - 2s - loss: 0.5664 - acc: 0.7752 - val_loss: 0.5992 - val_acc: 0.7655\n",
      "Epoch 12/50\n",
      " - 2s - loss: 0.5541 - acc: 0.7819 - val_loss: 0.5912 - val_acc: 0.7645\n",
      "Epoch 13/50\n",
      " - 2s - loss: 0.5412 - acc: 0.7866 - val_loss: 0.5850 - val_acc: 0.7705\n",
      "Epoch 14/50\n",
      " - 2s - loss: 0.5315 - acc: 0.7903 - val_loss: 0.5860 - val_acc: 0.7618\n",
      "Epoch 15/50\n",
      " - 2s - loss: 0.5184 - acc: 0.7946 - val_loss: 0.5870 - val_acc: 0.7632\n",
      "Epoch 16/50\n",
      " - 2s - loss: 0.5063 - acc: 0.7984 - val_loss: 0.5700 - val_acc: 0.7767\n",
      "Epoch 17/50\n",
      " - 2s - loss: 0.4971 - acc: 0.8045 - val_loss: 0.5802 - val_acc: 0.7695\n",
      "Epoch 18/50\n",
      " - 2s - loss: 0.4900 - acc: 0.8088 - val_loss: 0.5756 - val_acc: 0.7761\n",
      "Epoch 19/50\n",
      " - 2s - loss: 0.4813 - acc: 0.8154 - val_loss: 0.5464 - val_acc: 0.7887\n",
      "Epoch 20/50\n",
      " - 2s - loss: 0.4725 - acc: 0.8143 - val_loss: 0.5763 - val_acc: 0.7675\n",
      "Epoch 21/50\n",
      " - 2s - loss: 0.4617 - acc: 0.8223 - val_loss: 0.5472 - val_acc: 0.7787\n",
      "Epoch 22/50\n",
      " - 2s - loss: 0.4529 - acc: 0.8235 - val_loss: 0.5311 - val_acc: 0.7897\n",
      "Epoch 23/50\n",
      " - 2s - loss: 0.4456 - acc: 0.8253 - val_loss: 0.5378 - val_acc: 0.7926\n",
      "Epoch 24/50\n",
      " - 2s - loss: 0.4372 - acc: 0.8301 - val_loss: 0.5242 - val_acc: 0.7926\n",
      "Epoch 25/50\n",
      " - 2s - loss: 0.4284 - acc: 0.8345 - val_loss: 0.5367 - val_acc: 0.7913\n",
      "Epoch 26/50\n",
      " - 2s - loss: 0.4223 - acc: 0.8366 - val_loss: 0.5479 - val_acc: 0.7864\n",
      "Epoch 27/50\n",
      " - 2s - loss: 0.4143 - acc: 0.8393 - val_loss: 0.5393 - val_acc: 0.7854\n",
      "Epoch 28/50\n",
      " - 2s - loss: 0.4069 - acc: 0.8417 - val_loss: 0.5282 - val_acc: 0.7887\n",
      "Epoch 29/50\n",
      " - 2s - loss: 0.4016 - acc: 0.8428 - val_loss: 0.5189 - val_acc: 0.7913\n",
      "Epoch 30/50\n",
      " - 2s - loss: 0.3931 - acc: 0.8475 - val_loss: 0.5163 - val_acc: 0.7979\n",
      "Epoch 31/50\n",
      " - 2s - loss: 0.3857 - acc: 0.8518 - val_loss: 0.5090 - val_acc: 0.8016\n",
      "Epoch 32/50\n",
      " - 2s - loss: 0.3785 - acc: 0.8537 - val_loss: 0.5339 - val_acc: 0.7933\n",
      "Epoch 33/50\n",
      " - 2s - loss: 0.3707 - acc: 0.8590 - val_loss: 0.5189 - val_acc: 0.7966\n",
      "Epoch 34/50\n",
      " - 2s - loss: 0.3680 - acc: 0.8600 - val_loss: 0.5066 - val_acc: 0.8013\n",
      "Epoch 35/50\n",
      " - 2s - loss: 0.3610 - acc: 0.8614 - val_loss: 0.5116 - val_acc: 0.7956\n",
      "Epoch 36/50\n",
      " - 2s - loss: 0.3557 - acc: 0.8626 - val_loss: 0.5117 - val_acc: 0.8026\n",
      "Epoch 37/50\n",
      " - 2s - loss: 0.3479 - acc: 0.8675 - val_loss: 0.5141 - val_acc: 0.7930\n",
      "Epoch 38/50\n",
      " - 2s - loss: 0.3414 - acc: 0.8704 - val_loss: 0.5454 - val_acc: 0.7864\n",
      "Epoch 39/50\n",
      " - 2s - loss: 0.3356 - acc: 0.8737 - val_loss: 0.5026 - val_acc: 0.7976\n",
      "Epoch 40/50\n",
      " - 2s - loss: 0.3298 - acc: 0.8734 - val_loss: 0.5275 - val_acc: 0.7970\n",
      "Epoch 41/50\n",
      " - 2s - loss: 0.3226 - acc: 0.8792 - val_loss: 0.5095 - val_acc: 0.8056\n",
      "Epoch 42/50\n",
      " - 2s - loss: 0.3194 - acc: 0.8810 - val_loss: 0.5389 - val_acc: 0.7900\n",
      "Epoch 43/50\n",
      " - 2s - loss: 0.3138 - acc: 0.8841 - val_loss: 0.4993 - val_acc: 0.8102\n",
      "Epoch 44/50\n",
      " - 2s - loss: 0.3067 - acc: 0.8861 - val_loss: 0.5356 - val_acc: 0.7844\n",
      "Epoch 45/50\n",
      " - 2s - loss: 0.3040 - acc: 0.8869 - val_loss: 0.5147 - val_acc: 0.7993\n",
      "Epoch 46/50\n",
      " - 2s - loss: 0.2971 - acc: 0.8879 - val_loss: 0.5057 - val_acc: 0.8039\n",
      "Epoch 47/50\n",
      " - 2s - loss: 0.2904 - acc: 0.8931 - val_loss: 0.5227 - val_acc: 0.7983\n",
      "Epoch 48/50\n",
      " - 2s - loss: 0.2841 - acc: 0.8967 - val_loss: 0.5320 - val_acc: 0.7920\n",
      "Epoch 49/50\n",
      " - 2s - loss: 0.2786 - acc: 0.9005 - val_loss: 0.5136 - val_acc: 0.8039\n",
      "Epoch 50/50\n",
      " - 2s - loss: 0.2769 - acc: 0.8958 - val_loss: 0.5571 - val_acc: 0.7887\n"
     ]
    }
   ],
   "source": [
    "training_hist = nn_model.fit(X_train, y_train, batch_size=100, epochs = 50,  verbose=2, validation_data=(X_valid, y_valid))"
   ]
  },
  {
   "cell_type": "code",
   "execution_count": 26,
   "metadata": {},
   "outputs": [
    {
     "data": {
      "text/plain": [
       "Text(0, 0.5, 'loss')"
      ]
     },
     "execution_count": 26,
     "metadata": {},
     "output_type": "execute_result"
    },
    {
     "data": {
      "image/png": "[encoded data removed]",
      "text/plain": [
       "<Figure size 432x288 with 1 Axes>"
      ]
     },
     "metadata": {
      "needs_background": "light"
     },
     "output_type": "display_data"
    }
   ],
   "source": [
    "import matplotlib.pyplot as plt\n",
    "#Plot training and validation loss\n",
    "plt.plot(training_hist.history['loss'])\n",
    "plt.plot(training_hist.history['val_loss'])\n",
    "plt.title('Training & Validation loss')\n",
    "plt.legend(['training', 'validation'], loc='upper right')\n",
    "plt.xlabel('epoch')\n",
    "plt.ylabel('loss')"
   ]
  },
  {
   "cell_type": "code",
   "execution_count": 27,
   "metadata": {},
   "outputs": [
    {
     "data": {
      "text/plain": [
       "Text(0, 0.5, 'accuracy')"
      ]
     },
     "execution_count": 27,
     "metadata": {},
     "output_type": "execute_result"
    },
    {
     "data": {
      "image/png": "[encoded data removed]",
      "text/plain": [
       "<Figure size 432x288 with 1 Axes>"
      ]
     },
     "metadata": {
      "needs_background": "light"
     },
     "output_type": "display_data"
    }
   ],
   "source": [
    "#plot training and validation accuracy\n",
    "plt.plot(training_hist.history['acc'])\n",
    "plt.plot(training_hist.history['val_acc'])\n",
    "plt.title('Training & Validation accuracy')\n",
    "plt.legend(['training', 'validation'], loc='upper right')\n",
    "plt.xlabel('epoch')\n",
    "plt.ylabel('accuracy')"
   ]
  },
  {
   "cell_type": "code",
   "execution_count": 28,
   "metadata": {
    "scrolled": false
   },
   "outputs": [
    {
     "name": "stdout",
     "output_type": "stream",
     "text": [
      "3000/3000 [==============================] - 0s 116us/step\n",
      "Loss  0.5120449511210123\n",
      "Accuracy score: 0.8059999998410543\n"
     ]
    }
   ],
   "source": [
    "loss_accuracy_score = nn_model.evaluate(X_test, y_test)#, batch_size=100, verbose=2)\n",
    "print(\"Loss \", loss_accuracy_score[0] )\n",
    "print(\"Accuracy score:\",loss_accuracy_score[1])"
   ]
  },
  {
   "cell_type": "code",
   "execution_count": 29,
   "metadata": {
    "scrolled": true
   },
   "outputs": [
    {
     "name": "stdout",
     "output_type": "stream",
     "text": [
      "Train on 3000 samples, validate on 3019 samples\n",
      "Epoch 1/50\n",
      " - 1s - loss: 0.4957 - acc: 0.8090 - val_loss: 0.5020 - val_acc: 0.8009\n",
      "Epoch 2/50\n",
      " - 1s - loss: 0.4422 - acc: 0.8207 - val_loss: 0.4987 - val_acc: 0.7966\n",
      "Epoch 3/50\n",
      " - 1s - loss: 0.4043 - acc: 0.8450 - val_loss: 0.4996 - val_acc: 0.7999\n",
      "Epoch 4/50\n",
      " - 1s - loss: 0.3949 - acc: 0.8387 - val_loss: 0.5083 - val_acc: 0.7913\n",
      "Epoch 5/50\n",
      " - 1s - loss: 0.3795 - acc: 0.8560 - val_loss: 0.4869 - val_acc: 0.8039\n",
      "Epoch 6/50\n",
      " - 1s - loss: 0.3594 - acc: 0.8627 - val_loss: 0.5011 - val_acc: 0.8032\n",
      "Epoch 7/50\n",
      " - 1s - loss: 0.3480 - acc: 0.8603 - val_loss: 0.4855 - val_acc: 0.8066\n",
      "Epoch 8/50\n",
      " - 1s - loss: 0.3375 - acc: 0.8713 - val_loss: 0.4857 - val_acc: 0.8105\n",
      "Epoch 9/50\n",
      " - 1s - loss: 0.3233 - acc: 0.8757 - val_loss: 0.5732 - val_acc: 0.7840\n",
      "Epoch 10/50\n",
      " - 1s - loss: 0.3160 - acc: 0.8837 - val_loss: 0.4843 - val_acc: 0.8092\n",
      "Epoch 11/50\n",
      " - 1s - loss: 0.3017 - acc: 0.8880 - val_loss: 0.5133 - val_acc: 0.7960\n",
      "Epoch 12/50\n",
      " - 1s - loss: 0.2935 - acc: 0.8867 - val_loss: 0.4978 - val_acc: 0.8062\n",
      "Epoch 13/50\n",
      " - 1s - loss: 0.2865 - acc: 0.8927 - val_loss: 0.4862 - val_acc: 0.8105\n",
      "Epoch 14/50\n",
      " - 1s - loss: 0.2795 - acc: 0.8963 - val_loss: 0.5286 - val_acc: 0.7920\n",
      "Epoch 15/50\n",
      " - 1s - loss: 0.2733 - acc: 0.9007 - val_loss: 0.5122 - val_acc: 0.7933\n",
      "Epoch 16/50\n",
      " - 1s - loss: 0.2635 - acc: 0.9087 - val_loss: 0.5050 - val_acc: 0.7999\n",
      "Epoch 17/50\n",
      " - 1s - loss: 0.2571 - acc: 0.9110 - val_loss: 0.4849 - val_acc: 0.8148\n",
      "Epoch 18/50\n",
      " - 1s - loss: 0.2500 - acc: 0.9110 - val_loss: 0.4917 - val_acc: 0.8085\n",
      "Epoch 19/50\n",
      " - 1s - loss: 0.2409 - acc: 0.9207 - val_loss: 0.4939 - val_acc: 0.8102\n",
      "Epoch 20/50\n",
      " - 1s - loss: 0.2365 - acc: 0.9237 - val_loss: 0.5096 - val_acc: 0.7983\n",
      "Epoch 21/50\n",
      " - 1s - loss: 0.2297 - acc: 0.9283 - val_loss: 0.5090 - val_acc: 0.8009\n",
      "Epoch 22/50\n",
      " - 1s - loss: 0.2251 - acc: 0.9273 - val_loss: 0.5041 - val_acc: 0.8046\n",
      "Epoch 23/50\n",
      " - 1s - loss: 0.2148 - acc: 0.9370 - val_loss: 0.4983 - val_acc: 0.8099\n",
      "Epoch 24/50\n",
      " - 1s - loss: 0.2179 - acc: 0.9280 - val_loss: 0.5060 - val_acc: 0.8039\n",
      "Epoch 25/50\n",
      " - 1s - loss: 0.2082 - acc: 0.9390 - val_loss: 0.5052 - val_acc: 0.8036\n",
      "Epoch 26/50\n",
      " - 1s - loss: 0.1962 - acc: 0.9490 - val_loss: 0.5030 - val_acc: 0.8072\n",
      "Epoch 27/50\n",
      " - 1s - loss: 0.1994 - acc: 0.9407 - val_loss: 0.4970 - val_acc: 0.8158\n",
      "Epoch 28/50\n",
      " - 1s - loss: 0.1925 - acc: 0.9470 - val_loss: 0.4980 - val_acc: 0.8115\n",
      "Epoch 29/50\n",
      " - 1s - loss: 0.1853 - acc: 0.9467 - val_loss: 0.5184 - val_acc: 0.8036\n",
      "Epoch 30/50\n",
      " - 1s - loss: 0.1828 - acc: 0.9527 - val_loss: 0.5181 - val_acc: 0.7970\n",
      "Epoch 31/50\n",
      " - 1s - loss: 0.1745 - acc: 0.9530 - val_loss: 0.5013 - val_acc: 0.8109\n",
      "Epoch 32/50\n",
      " - 1s - loss: 0.1739 - acc: 0.9553 - val_loss: 0.5344 - val_acc: 0.7989\n",
      "Epoch 33/50\n",
      " - 1s - loss: 0.1703 - acc: 0.9560 - val_loss: 0.5361 - val_acc: 0.7999\n",
      "Epoch 34/50\n",
      " - 1s - loss: 0.1664 - acc: 0.9553 - val_loss: 0.5084 - val_acc: 0.8085\n",
      "Epoch 35/50\n",
      " - 1s - loss: 0.1658 - acc: 0.9540 - val_loss: 0.5090 - val_acc: 0.8102\n",
      "Epoch 36/50\n",
      " - 1s - loss: 0.1567 - acc: 0.9613 - val_loss: 0.5169 - val_acc: 0.8046\n",
      "Epoch 37/50\n",
      " - 1s - loss: 0.1522 - acc: 0.9623 - val_loss: 0.5155 - val_acc: 0.8072\n",
      "Epoch 38/50\n",
      " - 1s - loss: 0.1591 - acc: 0.9567 - val_loss: 0.5388 - val_acc: 0.7933\n",
      "Epoch 39/50\n",
      " - 1s - loss: 0.1521 - acc: 0.9630 - val_loss: 0.5193 - val_acc: 0.8082\n",
      "Epoch 40/50\n",
      " - 1s - loss: 0.1441 - acc: 0.9657 - val_loss: 0.5326 - val_acc: 0.8032\n",
      "Epoch 41/50\n",
      " - 1s - loss: 0.1436 - acc: 0.9657 - val_loss: 0.5336 - val_acc: 0.7993\n",
      "Epoch 42/50\n",
      " - 1s - loss: 0.1389 - acc: 0.9673 - val_loss: 0.5222 - val_acc: 0.8062\n",
      "Epoch 43/50\n",
      " - 1s - loss: 0.1344 - acc: 0.9720 - val_loss: 0.5180 - val_acc: 0.8076\n",
      "Epoch 44/50\n",
      " - 1s - loss: 0.1308 - acc: 0.9680 - val_loss: 0.5181 - val_acc: 0.8092\n",
      "Epoch 45/50\n",
      " - 1s - loss: 0.1294 - acc: 0.9707 - val_loss: 0.5192 - val_acc: 0.8082\n",
      "Epoch 46/50\n",
      " - 1s - loss: 0.1256 - acc: 0.9730 - val_loss: 0.5332 - val_acc: 0.8049\n",
      "Epoch 47/50\n",
      " - 1s - loss: 0.1235 - acc: 0.9710 - val_loss: 0.5380 - val_acc: 0.8019\n",
      "Epoch 48/50\n",
      " - 1s - loss: 0.1243 - acc: 0.9703 - val_loss: 0.5259 - val_acc: 0.8095\n",
      "Epoch 49/50\n",
      " - 1s - loss: 0.1161 - acc: 0.9777 - val_loss: 0.5240 - val_acc: 0.8082\n",
      "Epoch 50/50\n",
      " - 1s - loss: 0.1159 - acc: 0.9750 - val_loss: 0.5394 - val_acc: 0.8042\n"
     ]
    }
   ],
   "source": [
    "#Retrain the final model and test performance on the test collection. \n",
    "testing_hist = nn_model.fit(X_test, y_test, batch_size=100, epochs = 50,  verbose=2, validation_data=(X_valid, y_valid))"
   ]
  },
  {
   "cell_type": "code",
   "execution_count": 30,
   "metadata": {
    "scrolled": true
   },
   "outputs": [
    {
     "name": "stdout",
     "output_type": "stream",
     "text": [
      "3000/3000 [==============================] - 0s 112us/step\n",
      "Loss  0.11327598464488983\n",
      "Accuracy score: 0.9750000001589457\n"
     ]
    }
   ],
   "source": [
    "#Checking the performance of the model after training it with test data\n",
    "loss_accuracy_score = nn_model.evaluate(X_test, y_test)#, batch_size=100, verbose=2)\n",
    "print(\"Loss \", loss_accuracy_score[0] )\n",
    "print(\"Accuracy score:\",loss_accuracy_score[1])"
   ]
  },
  {
   "cell_type": "code",
   "execution_count": 77,
   "metadata": {},
   "outputs": [],
   "source": [
    "#save the model \n",
    "nn_model.save(\"My_fully_connected_nn\")\n",
    "nn_model.save_weights(\"Model_weights.h5\")\n",
    "load_nn_model = nn_model.load_weights(\"Model_weights.h5\")\n",
    "#new_model=load_model(\"My_fully_connected_nn\")"
   ]
  }
 ],
 "metadata": {
  "celltoolbar": "Raw Cell Format",
  "kernelspec": {
   "display_name": "Python 3 (ipykernel)",
   "language": "python",
   "name": "python3"
  },
  "language_info": {
   "codemirror_mode": {
    "name": "ipython",
    "version": 3
   },
   "file_extension": ".py",
   "mimetype": "text/x-python",
   "name": "python",
   "nbconvert_exporter": "python",
   "pygments_lexer": "ipython3",
   "version": "3.9.7"
  }
 },
 "nbformat": 4,
 "nbformat_minor": 2
}
